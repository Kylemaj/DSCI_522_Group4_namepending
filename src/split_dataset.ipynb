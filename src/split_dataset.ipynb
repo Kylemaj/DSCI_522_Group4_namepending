{
 "cells": [
  {
   "cell_type": "code",
   "execution_count": 2,
   "id": "b9ed04a2-ab97-4c3d-8bff-a5bb80a9bc34",
   "metadata": {},
   "outputs": [],
   "source": [
    "import pandas as pd\n",
    "from sklearn.model_selection import train_test_split"
   ]
  },
  {
   "cell_type": "code",
   "execution_count": 3,
   "id": "0f81bc12-f6b9-4096-a1ca-7304341e1b0d",
   "metadata": {},
   "outputs": [],
   "source": [
    "mushrooms = pd.read_csv(\"../data/mushrooms.csv\")"
   ]
  },
  {
   "cell_type": "code",
   "execution_count": 4,
   "id": "025583d4-0526-4fe2-9b03-a8216d0f5b87",
   "metadata": {},
   "outputs": [],
   "source": [
    "train_df, test_df = train_test_split(mushrooms, test_size=0.2, random_state=123)"
   ]
  },
  {
   "cell_type": "code",
   "execution_count": 6,
   "id": "3f366d14-550e-40dc-87e2-7cd39459f6e8",
   "metadata": {},
   "outputs": [],
   "source": [
    "train_df.to_csv(\"../data/train_df.csv\", index=False)"
   ]
  },
  {
   "cell_type": "code",
   "execution_count": 7,
   "id": "00919bd8-308f-4847-9721-76f12816f605",
   "metadata": {},
   "outputs": [],
   "source": [
    "test_df.to_csv(\"../data/test_df.csv\", index=False)"
   ]
  },
  {
   "cell_type": "code",
   "execution_count": null,
   "id": "84c24d44-6e30-4d63-9c63-0011c7fec5ad",
   "metadata": {},
   "outputs": [],
   "source": []
  }
 ],
 "metadata": {
  "kernelspec": {
   "display_name": "Python [conda env:mushrooms]",
   "language": "python",
   "name": "conda-env-mushrooms-py"
  },
  "language_info": {
   "codemirror_mode": {
    "name": "ipython",
    "version": 3
   },
   "file_extension": ".py",
   "mimetype": "text/x-python",
   "name": "python",
   "nbconvert_exporter": "python",
   "pygments_lexer": "ipython3",
   "version": "3.10.0"
  }
 },
 "nbformat": 4,
 "nbformat_minor": 5
}
